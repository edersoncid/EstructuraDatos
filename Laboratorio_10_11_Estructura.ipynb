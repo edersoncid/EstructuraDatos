{
  "nbformat": 4,
  "nbformat_minor": 0,
  "metadata": {
    "colab": {
      "provenance": [],
      "authorship_tag": "ABX9TyMO+2suTl3Tk3IOkA7lqhby",
      "include_colab_link": true
    },
    "kernelspec": {
      "name": "python3",
      "display_name": "Python 3"
    },
    "language_info": {
      "name": "python"
    }
  },
  "cells": [
    {
      "cell_type": "markdown",
      "metadata": {
        "id": "view-in-github",
        "colab_type": "text"
      },
      "source": [
        "<a href=\"https://colab.research.google.com/github/edersoncid/EstructuraDatos/blob/main/Laboratorio_10_11_Estructura.ipynb\" target=\"_parent\"><img src=\"https://colab.research.google.com/assets/colab-badge.svg\" alt=\"Open In Colab\"/></a>"
      ]
    },
    {
      "cell_type": "markdown",
      "source": [
        "# LISTA DOBLES"
      ],
      "metadata": {
        "id": "wV5Ipg45jgjg"
      }
    },
    {
      "cell_type": "code",
      "execution_count": null,
      "metadata": {
        "id": "s1qN15e_i0K4"
      },
      "outputs": [],
      "source": [
        "class Nodo:\n",
        "    def __init__(self, dato):\n",
        "        self.dato = dato\n",
        "        self.siguiente = None\n",
        "        self.anterior = None\n",
        "\n",
        "\n",
        "class ListaEnlazada:\n",
        "    def __init__(self):\n",
        "        self.cabeza = None\n",
        "        self.cola = None\n",
        "\n",
        "    def agregar(self, dato):\n",
        "        nuevo_nodo = Nodo(dato)\n",
        "        if self.cabeza is None:\n",
        "            self.cabeza = nuevo_nodo\n",
        "            self.cola = nuevo_nodo\n",
        "        else:\n",
        "            self.cola.siguiente = nuevo_nodo\n",
        "            nuevo_nodo.anterior = self.cola\n",
        "            self.cola = nuevo_nodo\n",
        "\n",
        "    def imprimir_adelante(self):\n",
        "        actual = self.cabeza\n",
        "        while actual:\n",
        "            print(actual.dato, end=\" \")\n",
        "            actual = actual.siguiente\n",
        "        print()\n",
        "\n",
        "    def imprimir_atras(self):\n",
        "        actual = self.cola\n",
        "        while actual:\n",
        "            print(actual.dato, end=\" \")\n",
        "            actual = actual.anterior\n",
        "        print()\n",
        "\n",
        "    def duplicar_nodos(self):\n",
        "        actual = self.cabeza\n",
        "        while actual:\n",
        "            nuevo_nodo = Nodo(actual.dato)\n",
        "            nuevo_nodo.siguiente = actual.siguiente\n",
        "            actual.siguiente = nuevo_nodo\n",
        "            if nuevo_nodo.siguiente:\n",
        "                nuevo_nodo.siguiente.anterior = nuevo_nodo\n",
        "            actual = nuevo_nodo.siguiente\n",
        "\n",
        "    def contar_pares_impares(self):\n",
        "        actual = self.cabeza\n",
        "        pares = impares = 0\n",
        "        while actual:\n",
        "            if actual.dato % 2 == 0:\n",
        "                pares += 1\n",
        "            else:\n",
        "                impares += 1\n",
        "            actual = actual.siguiente\n",
        "        return pares, impares\n",
        "\n",
        "    def insertar_en_posicion(self, dato, posicion):\n",
        "        nuevo_nodo = Nodo(dato)\n",
        "        actual = self.cabeza\n",
        "        contador = 1\n",
        "        while actual:\n",
        "            if contador == posicion:\n",
        "                nuevo_nodo.siguiente = actual.siguiente\n",
        "                actual.siguiente = nuevo_nodo\n",
        "                nuevo_nodo.anterior = actual\n",
        "                if nuevo_nodo.siguiente:\n",
        "                    nuevo_nodo.siguiente.anterior = nuevo_nodo\n",
        "                return\n",
        "            actual = actual.siguiente\n",
        "            contador += 1\n",
        "\n",
        "    def eliminar_duplicados(self):\n",
        "      \"\"\"\n",
        "      Elimina los nodos duplicados de la lista enlazada.\n",
        "      \"\"\"\n",
        "      valores = set()\n",
        "      actual = self.cabeza\n",
        "      while actual:\n",
        "          if actual.dato in valores:\n",
        "              if actual.anterior:\n",
        "                  actual.anterior.siguiente = actual.siguiente\n",
        "              if actual.siguiente:\n",
        "                  actual.siguiente.anterior = actual.anterior\n",
        "          else:\n",
        "              valores.add(actual.dato)\n",
        "          actual = actual.siguiente\n",
        "\n",
        "\n",
        "    def invertir_lista(self):\n",
        "        actual = self.cabeza\n",
        "        while actual:\n",
        "            temp = actual.siguiente\n",
        "            actual.siguiente = actual.anterior\n",
        "            actual.anterior = temp\n",
        "            if temp is None:\n",
        "                self.cabeza, self.cola = self.cola, self.cabeza\n",
        "            actual = temp\n",
        "\n",
        "\n"
      ]
    },
    {
      "cell_type": "code",
      "source": [
        "class NodoArbol:\n",
        "    def __init__(self, dato):\n",
        "        self.dato = dato\n",
        "        self.izquierda = None\n",
        "        self.derecha = None\n",
        "\n",
        "def nivel_maximo(raiz):\n",
        "    if not raiz:\n",
        "        return 0\n",
        "    else:\n",
        "        nivel_izquierda = nivel_maximo(raiz.izquierda)\n",
        "        nivel_derecha = nivel_maximo(raiz.derecha)\n",
        "        return max(nivel_izquierda, nivel_derecha) + 1\n",
        "\n",
        "def encontrar_nodo_maximo(raiz, nivel_actual, nivel_maximo):\n",
        "    if not raiz:\n",
        "        return None\n",
        "    elif nivel_actual == nivel_maximo:\n",
        "        return raiz\n",
        "    else:\n",
        "        nodo_maximo_izquierda = encontrar_nodo_maximo(raiz.izquierda, nivel_actual + 1, nivel_maximo)\n",
        "        nodo_maximo_derecha = encontrar_nodo_maximo(raiz.derecha, nivel_actual + 1, nivel_maximo)\n",
        "        if nodo_maximo_izquierda and nodo_maximo_derecha:\n",
        "            if nodo_maximo_izquierda.dato > nodo_maximo_derecha.dato:\n",
        "                return nodo_maximo_izquierda\n",
        "            else:\n",
        "                return nodo_maximo_derecha\n",
        "        elif nodo_maximo_izquierda:\n",
        "            return nodo_maximo_izquierda\n",
        "        else:\n",
        "            return nodo_maximo_derecha\n",
        "\n",
        "def encontrar_nodo_maximo_en_arbol(raiz):\n",
        "    global nivel_maximo\n",
        "    nivel_maximo = nivel_maximo(raiz)\n",
        "    return encontrar_nodo_maximo(raiz, 1, nivel_maximo)\n",
        "\n",
        "# Ejemplo de uso\n",
        "raiz = NodoArbol(1)\n",
        "raiz.izquierda = NodoArbol(2)\n",
        "raiz.derecha = NodoArbol(3)\n",
        "raiz.izquierda.izquierda = NodoArbol(4)\n",
        "raiz.izquierda.derecha = NodoArbol(5)\n",
        "raiz.derecha.izquierda = NodoArbol(6)\n",
        "raiz.derecha.derecha = NodoArbol(7)\n",
        "raiz.derecha.derecha.derecha = NodoArbol(8)\n",
        "\n",
        "nodo_maximo = encontrar_nodo_maximo_en_arbol(raiz)\n",
        "print(nodo_maximo.dato) # Debería imprimir 8"
      ],
      "metadata": {
        "colab": {
          "base_uri": "https://localhost:8080/"
        },
        "id": "CWGr2BiKekXP",
        "outputId": "f9630b8e-c131-437c-99e1-d8bc14f68ce6"
      },
      "execution_count": null,
      "outputs": [
        {
          "output_type": "stream",
          "name": "stdout",
          "text": [
            "8\n"
          ]
        }
      ]
    },
    {
      "cell_type": "code",
      "source": [
        "# Ejemplo de uso\n",
        "mi_lista = ListaEnlazada()\n",
        "for dato in [1, 2, 3, 4]:\n",
        "    mi_lista.agregar(dato)\n",
        "\n",
        "# Duplicar nodos\n",
        "mi_lista.duplicar_nodos()\n",
        "print(\"Lista original hacia adelante:\")\n",
        "mi_lista.imprimir_adelante()\n",
        "print(\"Lista duplicada hacia adelante:\")\n",
        "mi_lista.imprimir_adelante()\n",
        "print(\"Lista original hacia atrás:\")\n",
        "mi_lista.imprimir_atras()\n",
        "print(\"Lista duplicada hacia atrás:\")\n",
        "mi_lista.imprimir_atras()\n",
        "print()\n",
        "\n",
        "# Contar nodos pares e impares\n",
        "pares, impares = mi_lista.contar_pares_impares()\n",
        "print(\"Número de nodos pares:\", pares)\n",
        "print(\"Número de nodos impares:\", impares)\n",
        "print()\n",
        "\n",
        "# Insertar nodo en posición específica\n",
        "mi_lista.insertar_en_posicion(15, 3)\n",
        "print(\"Lista con nodo insertado en posición 3 hacia adelante:\")\n",
        "mi_lista.imprimir_adelante()\n",
        "print(\"Lista con nodo insertado en posición 3 hacia atrás:\")\n",
        "mi_lista.imprimir_atras()\n",
        "print()\n",
        "\n",
        "# Eliminar nodos duplicados\n",
        "mi_lista.eliminar_duplicados()\n",
        "print(\"Lista sin nodos duplicados hacia adelante:\")\n",
        "mi_lista.imprimir_adelante()\n",
        "print(\"Lista sin nodos duplicados hacia atrás:\")\n",
        "mi_lista.imprimir_atras()\n",
        "print()\n",
        "\n",
        "# Invertir lista\n",
        "mi_lista.invertir_lista()\n",
        "print(\"Lista invertida hacia adelante:\")\n",
        "mi_lista.imprimir_adelante()\n",
        "print(\"Lista invertida hacia atrás:\")\n",
        "mi_lista.imprimir_atras()\n"
      ],
      "metadata": {
        "colab": {
          "base_uri": "https://localhost:8080/"
        },
        "id": "KGat6eb0jlgx",
        "outputId": "34ce82ee-5c1b-4dfa-fcb0-7bb08c2afff2"
      },
      "execution_count": null,
      "outputs": [
        {
          "output_type": "stream",
          "name": "stdout",
          "text": [
            "Lista original hacia adelante:\n",
            "1 1 2 2 3 3 4 4 \n",
            "Lista duplicada hacia adelante:\n",
            "1 1 2 2 3 3 4 4 \n",
            "Lista original hacia atrás:\n",
            "4 3 \n",
            "Lista duplicada hacia atrás:\n",
            "4 3 \n",
            "\n",
            "Número de nodos pares: 4\n",
            "Número de nodos impares: 4\n",
            "\n",
            "Lista con nodo insertado en posición 3 hacia adelante:\n",
            "1 1 2 15 2 3 3 4 4 \n",
            "Lista con nodo insertado en posición 3 hacia atrás:\n",
            "4 3 \n",
            "\n",
            "Lista sin nodos duplicados hacia adelante:\n",
            "1 1 2 15 3 3 4 4 \n",
            "Lista sin nodos duplicados hacia atrás:\n",
            "4 \n",
            "\n",
            "Lista invertida hacia adelante:\n",
            "4 \n",
            "Lista invertida hacia atrás:\n",
            "1 1 2 15 3 3 4 4 \n"
          ]
        }
      ]
    },
    {
      "cell_type": "markdown",
      "source": [
        "# PILAS"
      ],
      "metadata": {
        "id": "oNLPnGRnjlzJ"
      }
    },
    {
      "cell_type": "code",
      "source": [
        "class Pila:\n",
        "    def __init__(self):\n",
        "        self.items = []\n",
        "\n",
        "    def esta_vacia(self):\n",
        "        return self.items == []\n",
        "\n",
        "    def apilar(self, dato):\n",
        "        self.items.append(dato)\n",
        "\n",
        "    def desapilar(self):\n",
        "        if not self.esta_vacia():\n",
        "            return self.items.pop()\n",
        "\n",
        "    def ver_tope(self):\n",
        "        if not self.esta_vacia():\n",
        "            return self.items[-1]\n",
        "\n",
        "\n",
        "def ordenar_pila(pila):\n",
        "    pila_auxiliar = Pila()\n",
        "    while not pila.esta_vacia():\n",
        "        temp = pila.desapilar()\n",
        "        while not pila_auxiliar.esta_vacia() and pila_auxiliar.ver_tope() > temp:\n",
        "            pila.apilar(pila_auxiliar.desapilar())\n",
        "        pila_auxiliar.apilar(temp)\n",
        "    return pila_auxiliar\n",
        "\n",
        "\n",
        "def calculadora_simple(expresion):\n",
        "    pila = Pila()\n",
        "    for caracter in expresion:\n",
        "        if caracter.isdigit():\n",
        "            pila.apilar(int(caracter))\n",
        "        else:\n",
        "            num2 = pila.desapilar()\n",
        "            num1 = pila.desapilar()\n",
        "            if caracter == '+':\n",
        "                resultado = num1 + num2\n",
        "            elif caracter == '-':\n",
        "                resultado = num1 - num2\n",
        "            elif caracter == '*':\n",
        "                resultado = num1 * num2\n",
        "            elif caracter == '/':\n",
        "                resultado = num1 / num2\n",
        "            pila.apilar(resultado)\n",
        "    return pila.ver_tope()\n",
        "\n",
        "\n",
        "\n",
        "\n",
        "\n"
      ],
      "metadata": {
        "id": "_-7lXKnjjm_x"
      },
      "execution_count": null,
      "outputs": []
    },
    {
      "cell_type": "code",
      "source": [
        "# Crear una pila\n",
        "mi_pila = Pila()\n",
        "mi_pila.apilar(3)\n",
        "mi_pila.apilar(1)\n",
        "mi_pila.apilar(2)\n",
        "\n",
        "# Ejemplo de ordenar una pila\n",
        "pila_ordenada = ordenar_pila(mi_pila)\n",
        "print(\"Pila ordenada:\", pila_ordenada.items)\n",
        "\n",
        "# Ejemplo de calculadora simple\n",
        "expresion = \"32*\"\n",
        "resultado_calculadora = calculadora_simple(expresion)\n",
        "print(\"Resultado de la calculadora:\", resultado_calculadora)\n",
        "\n"
      ],
      "metadata": {
        "colab": {
          "base_uri": "https://localhost:8080/"
        },
        "id": "B0fOBnFOlA0O",
        "outputId": "8a20f1ab-faf1-49ce-cfec-482edcd617be"
      },
      "execution_count": null,
      "outputs": [
        {
          "output_type": "stream",
          "name": "stdout",
          "text": [
            "Pila ordenada: [1, 2, 3]\n",
            "Resultado de la calculadora: 6\n",
            "¿Se puede deshacer la última acción? False\n",
            "¿Se puede deshacer la última acción? False\n",
            "[1, 2, 3]\n"
          ]
        }
      ]
    }
  ]
}
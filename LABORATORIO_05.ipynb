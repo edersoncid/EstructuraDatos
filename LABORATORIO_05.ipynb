{
  "nbformat": 4,
  "nbformat_minor": 0,
  "metadata": {
    "colab": {
      "provenance": [],
      "authorship_tag": "ABX9TyP6ydlig/EhtkEiq+CmGHLi",
      "include_colab_link": true
    },
    "kernelspec": {
      "name": "python3",
      "display_name": "Python 3"
    },
    "language_info": {
      "name": "python"
    }
  },
  "cells": [
    {
      "cell_type": "markdown",
      "metadata": {
        "id": "view-in-github",
        "colab_type": "text"
      },
      "source": [
        "<a href=\"https://colab.research.google.com/github/edersoncid/EstructuraDatos/blob/main/LABORATORIO_05.ipynb\" target=\"_parent\"><img src=\"https://colab.research.google.com/assets/colab-badge.svg\" alt=\"Open In Colab\"/></a>"
      ]
    },
    {
      "cell_type": "markdown",
      "source": [
        "# CONJUNTOS"
      ],
      "metadata": {
        "id": "X0FqYvftZKMm"
      }
    },
    {
      "cell_type": "markdown",
      "source": [
        "Ejercicio parte 01:\n",
        "1.     Escriba una función que reciba un conjunto de números y devuelva un conjunto con los números primos.\n",
        "2.    Escriba una función que reciba un conjunto de palabras y devuelva un conjunto con las palabras que comienzan con una letra determinada.\n",
        "3.    Escriba una función que reciba un conjunto de números y devuelva un conjunto con los números que son divisibles por un número determinado.\n",
        "4.    Escriba una función que reciba dos conjuntos de números y devuelva un conjunto con los números que están en ambos conjuntos.\n",
        "5.    Escriba una función que reciba dos conjuntos de números y devuelva un conjunto con los números que están en el primer conjunto pero no en el segundo.\n",
        "6.    Escriba una función que reciba dos conjuntos de números y devuelva un conjunto con los números que están en el segundo conjunto pero no en el primero.\n",
        "7.     Escriba una función que reciba un conjunto de palabras y devuelva un conjunto con las palabras que son anagramas.\n",
        "8.    Escriba una función que reciba un conjunto de palabras y devuelva un conjunto con las palabras que son palíndromos.\n",
        "9.    Escriba una función que reciba un conjunto de palabras y devuelva un conjunto con las palabras que tienen una longitud determinada."
      ],
      "metadata": {
        "id": "0MU_kEDFZDJF"
      }
    },
    {
      "cell_type": "code",
      "execution_count": 2,
      "metadata": {
        "id": "dH-ovZPvLYlE",
        "colab": {
          "base_uri": "https://localhost:8080/"
        },
        "outputId": "de747d12-afbb-4bf9-975f-65a246cb757e"
      },
      "outputs": [
        {
          "output_type": "stream",
          "name": "stdout",
          "text": [
            "Números primos: {2, 3, 5, 7}\n"
          ]
        }
      ],
      "source": [
        "#EJERCICIO 01\n",
        "def numeros_primos(conjunto):\n",
        "    primos = set()\n",
        "    for num in conjunto:\n",
        "        if num > 1:\n",
        "            es_primo = True\n",
        "            for i in range(2, num):\n",
        "                if num % i == 0:\n",
        "                    es_primo = False\n",
        "                    break\n",
        "            if es_primo:\n",
        "                primos.add(num)\n",
        "    return primos\n",
        "\n",
        "# Ejemplo de uso\n",
        "numeros = {2, 3, 4, 5, 6, 7, 8, 9, 10}\n",
        "print(\"Números primos:\", numeros_primos(numeros))"
      ]
    },
    {
      "cell_type": "code",
      "source": [
        "#EJERCICIO 02\n",
        "def palabras_con_letra(conjunto, letra):\n",
        "    return {palabra for palabra in conjunto if palabra.startswith(letra)}\n",
        "\n",
        "# Ejemplo de uso\n",
        "palabras = {\"perro\", \"gato\", \"pájaro\", \"elefante\", \"loro\"}\n",
        "letra_inicial = \"p\"\n",
        "print(\"Palabras que comienzan con la letra\", letra_inicial + \":\", palabras_con_letra(palabras, letra_inicial))\n"
      ],
      "metadata": {
        "colab": {
          "base_uri": "https://localhost:8080/"
        },
        "id": "4MKYaGxlZEke",
        "outputId": "31b61232-2941-448e-9454-e6234dea8cb7"
      },
      "execution_count": 3,
      "outputs": [
        {
          "output_type": "stream",
          "name": "stdout",
          "text": [
            "Palabras que comienzan con la letra p: {'pájaro', 'perro'}\n"
          ]
        }
      ]
    },
    {
      "cell_type": "code",
      "source": [
        "#EJERCICIO 03\n",
        "def numeros_divisibles(conjunto, divisor):\n",
        "    return {num for num in conjunto if num % divisor == 0}\n",
        "\n",
        "# Ejemplo de uso\n",
        "numeros = {1, 2, 3, 4, 5, 6, 7, 8, 9, 10}\n",
        "divisor = 3\n",
        "print(\"Números divisibles por\", divisor, \":\", numeros_divisibles(numeros, divisor))\n"
      ],
      "metadata": {
        "colab": {
          "base_uri": "https://localhost:8080/"
        },
        "id": "Qh53efBDbRiX",
        "outputId": "687a59f3-81cf-465d-d8c9-1ff0cb367221"
      },
      "execution_count": 4,
      "outputs": [
        {
          "output_type": "stream",
          "name": "stdout",
          "text": [
            "Números divisibles por 3 : {9, 3, 6}\n"
          ]
        }
      ]
    },
    {
      "cell_type": "code",
      "source": [
        "#EJERCICIO 04\n",
        "\n",
        "def numeros_en_ambos(conjunto1, conjunto2):\n",
        "    return conjunto1.intersection(conjunto2)\n",
        "\n",
        "# Ejemplo de uso\n",
        "conjunto1 = {1, 2, 3, 4, 5}\n",
        "conjunto2 = {4, 5, 6, 7, 8}\n",
        "print(\"Números en ambos conjuntos:\", numeros_en_ambos(conjunto1, conjunto2))\n"
      ],
      "metadata": {
        "colab": {
          "base_uri": "https://localhost:8080/"
        },
        "id": "q27E1alIbRfv",
        "outputId": "8fcebc8b-7d8c-445e-bce4-1ab4653fc588"
      },
      "execution_count": 5,
      "outputs": [
        {
          "output_type": "stream",
          "name": "stdout",
          "text": [
            "Números en ambos conjuntos: {4, 5}\n"
          ]
        }
      ]
    },
    {
      "cell_type": "code",
      "source": [
        "#EJERCICIO 05\n",
        "def numeros_en_primero_no_en_segundo(conjunto1, conjunto2):\n",
        "    return conjunto1.difference(conjunto2)\n",
        "\n",
        "# Ejemplo de uso\n",
        "conjunto1 = {1, 2, 3, 4, 5}\n",
        "conjunto2 = {4, 5, 6, 7, 8}\n",
        "print(\"Números en el primer conjunto pero no en el segundo:\", numeros_en_primero_no_en_segundo(conjunto1, conjunto2))\n"
      ],
      "metadata": {
        "colab": {
          "base_uri": "https://localhost:8080/"
        },
        "id": "Ye5xnoN0bRdW",
        "outputId": "5e7429ff-96bd-47e8-b93e-dda5094df6de"
      },
      "execution_count": 6,
      "outputs": [
        {
          "output_type": "stream",
          "name": "stdout",
          "text": [
            "Números en el primer conjunto pero no en el segundo: {1, 2, 3}\n"
          ]
        }
      ]
    },
    {
      "cell_type": "code",
      "source": [
        "#EJERCICIO 06\n",
        "def numeros_en_segundo_no_en_primero(conjunto1, conjunto2):\n",
        "    return conjunto2.difference(conjunto1)\n",
        "\n",
        "# Ejemplo de uso\n",
        "conjunto1 = {1, 2, 3, 4, 5}\n",
        "conjunto2 = {4, 5, 6, 7, 8}\n",
        "print(\"Números en el segundo conjunto pero no en el primero:\", numeros_en_segundo_no_en_primero(conjunto1, conjunto2))\n"
      ],
      "metadata": {
        "colab": {
          "base_uri": "https://localhost:8080/"
        },
        "id": "mjyfqPh_bRY_",
        "outputId": "6d84e65d-87d9-4347-d43a-20fcd5992a81"
      },
      "execution_count": 7,
      "outputs": [
        {
          "output_type": "stream",
          "name": "stdout",
          "text": [
            "Números en el segundo conjunto pero no en el primero: {8, 6, 7}\n"
          ]
        }
      ]
    },
    {
      "cell_type": "code",
      "source": [
        "#EJERCICIO 07\n",
        "def palabras_anagramas(conjunto):\n",
        "    anagramas = set()\n",
        "    for palabra in conjunto:\n",
        "        ordenada = ''.join(sorted(palabra))\n",
        "        for otra_palabra in conjunto:\n",
        "            if palabra != otra_palabra and ordenada == ''.join(sorted(otra_palabra)):\n",
        "                anagramas.add(palabra)\n",
        "                anagramas.add(otra_palabra)\n",
        "    return anagramas\n",
        "\n",
        "# Ejemplo de uso\n",
        "palabras = {\"roma\", \"amor\", \"perro\", \"pera\", \"piedra\"}\n",
        "print(\"Palabras que son anagramas:\", palabras_anagramas(palabras))"
      ],
      "metadata": {
        "colab": {
          "base_uri": "https://localhost:8080/"
        },
        "id": "tq7eHKTXcUQq",
        "outputId": "5c3230a0-5096-4141-ea28-706b18426a15"
      },
      "execution_count": 8,
      "outputs": [
        {
          "output_type": "stream",
          "name": "stdout",
          "text": [
            "Palabras que son anagramas: {'roma', 'amor'}\n"
          ]
        }
      ]
    },
    {
      "cell_type": "code",
      "source": [
        "#EJERCICIO 08\n",
        "def palabras_palindromos(conjunto):\n",
        "    return {palabra for palabra in conjunto if palabra == palabra[::-1]}\n",
        "\n",
        "# Ejemplo de uso\n",
        "palabras = {\"ala\", \"oso\", \"perro\", \"reconocer\", \"casa\"}\n",
        "print(\"Palabras que son palíndromos:\", palabras_palindromos(palabras))\n"
      ],
      "metadata": {
        "colab": {
          "base_uri": "https://localhost:8080/"
        },
        "id": "9C16ElPNcUMK",
        "outputId": "04419c34-4d4e-4bad-ba23-fdb5c248a3fb"
      },
      "execution_count": 9,
      "outputs": [
        {
          "output_type": "stream",
          "name": "stdout",
          "text": [
            "Palabras que son palíndromos: {'oso', 'ala', 'reconocer'}\n"
          ]
        }
      ]
    },
    {
      "cell_type": "code",
      "source": [
        "#EJERCICIO 09\n",
        "\n",
        "def palabras_longitud_determinada(conjunto, longitud):\n",
        "    return {palabra for palabra in conjunto if len(palabra) == longitud}\n",
        "\n",
        "# Ejemplo de uso\n",
        "palabras = {\"casa\", \"mesa\", \"silla\", \"perro\", \"gato\"}\n",
        "longitud = 4\n",
        "print(\"Palabras con longitud\", longitud, \":\", palabras_longitud_determinada(palabras, longitud))"
      ],
      "metadata": {
        "colab": {
          "base_uri": "https://localhost:8080/"
        },
        "id": "xQnxCTH3cVCy",
        "outputId": "485b9a0d-75ea-464d-e67a-5c9cddc92d59"
      },
      "execution_count": 10,
      "outputs": [
        {
          "output_type": "stream",
          "name": "stdout",
          "text": [
            "Palabras con longitud 4 : {'casa', 'gato', 'mesa'}\n"
          ]
        }
      ]
    },
    {
      "cell_type": "markdown",
      "source": [
        "10.  Escriba una función que reciba un conjunto de palabras y devuelva un conjunto con las palabras que contienen una letra determinada.\n",
        "11.   Escriba una función que reciba un conjunto de números y devuelva un conjunto con los números que están ordenados de menor a mayor.\n",
        "12.   Escriba una función que reciba un conjunto de números y devuelva un conjunto con los números que están ordenados de mayor a menor.\n",
        "13.   Escriba una función que reciba un conjunto de números y devuelva un conjunto con los números que están duplicados.\n",
        "14.   Escriba una función que reciba un conjunto de números y devuelva un conjunto con los números que no están duplicados.\n",
        "15.   Escriba una función que reciba un conjunto de números y devuelva un conjunto con los números que son primos y están ordenados de menor a mayor.\n",
        "16.   Escriba una función que reciba un conjunto de palabras y devuelva un conjunto con las palabras que son palíndromos y están ordenadas de menor a mayor.\n",
        "17.   Escriba una función que reciba un conjunto de palabras y devuelva un conjunto con las palabras que tienen una longitud determinada y están ordenadas de menor a mayor.\n",
        "18.  Escriba una función que reciba un conjunto de palabras y devuelva un conjunto con las palabras que contienen una letra determinada y están ordenadas de mayor a menor.\n",
        "19.   Escriba una función que reciba un conjunto de números y devuelva un conjunto con los números que están ordenados de menor a mayor y que no están duplicados.\n",
        "20.  Escriba una función que reciba un conjunto de palabras y devuelva un conjunto con las palabras que son palíndromos, tienen una longitud determinada y están ordenadas de menor a mayor."
      ],
      "metadata": {
        "id": "5UNc7mN8ZFKm"
      }
    },
    {
      "cell_type": "code",
      "source": [
        "#Ejercicio 10\n",
        "def palabras_con_letra(conjunto, letra):\n",
        "    return {palabra for palabra in conjunto if letra in palabra}\n",
        "\n",
        "# Ejemplo de uso\n",
        "palabras = {\"casa\", \"perro\", \"gato\", \"mesa\", \"loro\"}\n",
        "letra = \"a\"\n",
        "print(\"Palabras que contienen la letra\", letra + \":\", palabras_con_letra(palabras, letra))"
      ],
      "metadata": {
        "colab": {
          "base_uri": "https://localhost:8080/"
        },
        "id": "3N4eBmeTZG_G",
        "outputId": "2b9c5490-b682-498e-b57f-2f5b20ab3aae"
      },
      "execution_count": 11,
      "outputs": [
        {
          "output_type": "stream",
          "name": "stdout",
          "text": [
            "Palabras que contienen la letra a: {'casa', 'gato', 'mesa'}\n"
          ]
        }
      ]
    },
    {
      "cell_type": "code",
      "source": [
        "#Ejercicio 11\n",
        "def numeros_ordenados_menor_a_mayor(conjunto):\n",
        "    return sorted(conjunto)\n",
        "\n",
        "# Ejemplo de uso\n",
        "numeros = {4, 2, 6, 1, 8, 3, 5, 7}\n",
        "print(\"Números ordenados de menor a mayor:\", numeros_ordenados_menor_a_mayor(numeros))\n"
      ],
      "metadata": {
        "colab": {
          "base_uri": "https://localhost:8080/"
        },
        "id": "vzdOJH-cc8uC",
        "outputId": "7ad0da68-7583-41cd-fcc4-525c3942d831"
      },
      "execution_count": 13,
      "outputs": [
        {
          "output_type": "stream",
          "name": "stdout",
          "text": [
            "Números ordenados de menor a mayor: [1, 2, 3, 4, 5, 6, 7, 8]\n"
          ]
        }
      ]
    },
    {
      "cell_type": "code",
      "source": [
        "#Ejercicio 12\n",
        "def numeros_ordenados_mayor_a_menor(conjunto):\n",
        "    return sorted(conjunto, reverse=True)\n",
        "\n",
        "# Ejemplo de uso\n",
        "numeros = {4, 2, 6, 1, 8, 3, 5, 7}\n",
        "print(\"Números ordenados de mayor a menor:\", numeros_ordenados_mayor_a_menor(numeros))\n"
      ],
      "metadata": {
        "colab": {
          "base_uri": "https://localhost:8080/"
        },
        "id": "fLj1XSzAc8r6",
        "outputId": "136af41c-ad8d-45ca-ad73-e84412e79c21"
      },
      "execution_count": 14,
      "outputs": [
        {
          "output_type": "stream",
          "name": "stdout",
          "text": [
            "Números ordenados de mayor a menor: [8, 7, 6, 5, 4, 3, 2, 1]\n"
          ]
        }
      ]
    },
    {
      "cell_type": "code",
      "source": [
        "#Ejercicio 13\n",
        "def numeros_duplicados(conjunto):\n",
        "    duplicados = set()\n",
        "    unicos = set()\n",
        "    for num in conjunto:\n",
        "        if num in unicos:\n",
        "            duplicados.add(num)\n",
        "        else:\n",
        "            unicos.add(num)\n",
        "    return duplicados\n",
        "\n",
        "# Ejemplo de uso\n",
        "numeros = {1, 2, 2, 3, 4, 4, 5, 6}\n",
        "print(\"Números duplicados:\", numeros_duplicados(numeros))\n"
      ],
      "metadata": {
        "colab": {
          "base_uri": "https://localhost:8080/"
        },
        "id": "_4J8ATdfc8pj",
        "outputId": "dde8f0cd-1f07-4d22-f1cb-64613b22cce5"
      },
      "execution_count": 15,
      "outputs": [
        {
          "output_type": "stream",
          "name": "stdout",
          "text": [
            "Números duplicados: set()\n"
          ]
        }
      ]
    },
    {
      "cell_type": "code",
      "source": [
        "#Ejercicio 14\n",
        "def numeros_no_duplicados(conjunto):\n",
        "    unicos = set()\n",
        "    for num in conjunto:\n",
        "        unicos.add(num)\n",
        "    return unicos\n",
        "\n",
        "# Ejemplo de uso\n",
        "numeros = {1, 2, 2, 3, 4, 4, 5, 6}\n",
        "print(\"Números no duplicados:\", numeros_no_duplicados(numeros))\n"
      ],
      "metadata": {
        "colab": {
          "base_uri": "https://localhost:8080/"
        },
        "id": "MLOgdF21c8nK",
        "outputId": "6527f92f-df05-4be1-df52-eba2b12a95c7"
      },
      "execution_count": 16,
      "outputs": [
        {
          "output_type": "stream",
          "name": "stdout",
          "text": [
            "Números no duplicados: {1, 2, 3, 4, 5, 6}\n"
          ]
        }
      ]
    },
    {
      "cell_type": "code",
      "source": [
        "#Ejercicio 15\n",
        "def numeros_primos_ordenados(conjunto):\n",
        "    primos = set()\n",
        "    for num in conjunto:\n",
        "        if num > 1:\n",
        "            es_primo = True\n",
        "            for i in range(2, num):\n",
        "                if num % i == 0:\n",
        "                    es_primo = False\n",
        "                    break\n",
        "            if es_primo:\n",
        "                primos.add(num)\n",
        "    return sorted(primos)\n",
        "\n",
        "# Ejemplo de uso\n",
        "numeros = {10, 5, 2, 7, 3, 8, 11}\n",
        "print(\"Números primos ordenados de menor a mayor:\", numeros_primos_ordenados(numeros))\n"
      ],
      "metadata": {
        "colab": {
          "base_uri": "https://localhost:8080/"
        },
        "id": "CgpmMqhRc8kq",
        "outputId": "89db532c-0c32-49b7-c57c-9aa934f7cb42"
      },
      "execution_count": 17,
      "outputs": [
        {
          "output_type": "stream",
          "name": "stdout",
          "text": [
            "Números primos ordenados de menor a mayor: [2, 3, 5, 7, 11]\n"
          ]
        }
      ]
    },
    {
      "cell_type": "code",
      "source": [
        "#Ejercicio 17\n",
        "def palabras_palindromos_ordenados(conjunto):\n",
        "    palindromos = set()\n",
        "    for palabra in conjunto:\n",
        "        if palabra == palabra[::-1]:\n",
        "            palindromos.add(palabra)\n",
        "    return sorted(palindromos)\n",
        "\n",
        "# Ejemplo de uso\n",
        "palabras = {\"ala\", \"oso\", \"perro\", \"reconocer\", \"casa\"}\n",
        "print(\"Palabras palíndromos ordenadas de menor a mayor:\", palabras_palindromos_ordenados(palabras))\n",
        "\n"
      ],
      "metadata": {
        "colab": {
          "base_uri": "https://localhost:8080/"
        },
        "id": "isjbJRobdARj",
        "outputId": "bdf35174-63e8-45b4-de19-63c179c255bb"
      },
      "execution_count": 18,
      "outputs": [
        {
          "output_type": "stream",
          "name": "stdout",
          "text": [
            "Palabras palíndromos ordenadas de menor a mayor: ['ala', 'oso', 'reconocer']\n"
          ]
        }
      ]
    },
    {
      "cell_type": "code",
      "source": [
        "#Ejercicio 18\n",
        "def palabras_longitud_ordenadas(conjunto, longitud):\n",
        "    palabras_filtradas = {palabra for palabra in conjunto if len(palabra) == longitud}\n",
        "    return sorted(palabras_filtradas)\n",
        "\n",
        "# Ejemplo de uso\n",
        "palabras = {\"casa\", \"mesa\", \"silla\", \"perro\", \"gato\"}\n",
        "longitud = 4\n",
        "print(\"Palabras con longitud\", longitud, \"ordenadas de menor a mayor:\", palabras_longitud_ordenadas(palabras, longitud))\n"
      ],
      "metadata": {
        "colab": {
          "base_uri": "https://localhost:8080/"
        },
        "id": "lIeLLrJIdAPz",
        "outputId": "76654823-e8fe-4023-e320-7732fb5c6862"
      },
      "execution_count": 19,
      "outputs": [
        {
          "output_type": "stream",
          "name": "stdout",
          "text": [
            "Palabras con longitud 4 ordenadas de menor a mayor: ['casa', 'gato', 'mesa']\n"
          ]
        }
      ]
    },
    {
      "cell_type": "code",
      "source": [
        "#Ejercicio 19\n",
        "def palabras_con_letra_ordenadas(conjunto, letra):\n",
        "    palabras_filtradas = {palabra for palabra in conjunto if letra in palabra}\n",
        "    return sorted(palabras_filtradas, reverse=True)\n",
        "\n",
        "# Ejemplo de uso\n",
        "palabras = {\"casa\", \"perro\", \"gato\", \"mesa\", \"loro\"}\n",
        "letra = \"a\"\n",
        "print(\"Palabras que contienen la letra\", letra, \"ordenadas de mayor a menor:\", palabras_con_letra_ordenadas(palabras, letra))\n",
        "\n"
      ],
      "metadata": {
        "colab": {
          "base_uri": "https://localhost:8080/"
        },
        "id": "dVax8k7kdANj",
        "outputId": "1a0f302a-93eb-45ee-8669-7a9a32d8847b"
      },
      "execution_count": 21,
      "outputs": [
        {
          "output_type": "stream",
          "name": "stdout",
          "text": [
            "Palabras que contienen la letra a ordenadas de mayor a menor: ['mesa', 'gato', 'casa']\n"
          ]
        }
      ]
    },
    {
      "cell_type": "code",
      "source": [
        "#Ejercicio 20\n",
        "def numeros_ordenados_sin_duplicados(conjunto):\n",
        "    return sorted(set(conjunto))\n",
        "\n",
        "# Ejemplo de uso\n",
        "numeros = {4, 2, 6, 1, 8, 3, 5, 7, 2, 4}\n",
        "print(\"Números ordenados de menor a mayor sin duplicados:\", numeros_ordenados_sin_duplicados(numeros))\n"
      ],
      "metadata": {
        "colab": {
          "base_uri": "https://localhost:8080/"
        },
        "id": "u6EodOlJc_97",
        "outputId": "fd0b8ef5-a12d-454f-e10b-9daed5aaf4f7"
      },
      "execution_count": 22,
      "outputs": [
        {
          "output_type": "stream",
          "name": "stdout",
          "text": [
            "Números ordenados de menor a mayor sin duplicados: [1, 2, 3, 4, 5, 6, 7, 8]\n"
          ]
        }
      ]
    }
  ]
}
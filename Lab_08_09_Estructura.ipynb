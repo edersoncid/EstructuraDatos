{
  "nbformat": 4,
  "nbformat_minor": 0,
  "metadata": {
    "colab": {
      "provenance": [],
      "authorship_tag": "ABX9TyNBSJgq2twcSp3cFR3CRqbe",
      "include_colab_link": true
    },
    "kernelspec": {
      "name": "python3",
      "display_name": "Python 3"
    },
    "language_info": {
      "name": "python"
    }
  },
  "cells": [
    {
      "cell_type": "markdown",
      "metadata": {
        "id": "view-in-github",
        "colab_type": "text"
      },
      "source": [
        "<a href=\"https://colab.research.google.com/github/edersoncid/EstructuraDatos/blob/main/Lab_08_09_Estructura.ipynb\" target=\"_parent\"><img src=\"https://colab.research.google.com/assets/colab-badge.svg\" alt=\"Open In Colab\"/></a>"
      ]
    },
    {
      "cell_type": "code",
      "execution_count": null,
      "metadata": {
        "colab": {
          "base_uri": "https://localhost:8080/"
        },
        "id": "uefgrRYcOm3a",
        "outputId": "cc8e4e16-abc9-43eb-be5d-29c27f45c9ff"
      },
      "outputs": [
        {
          "output_type": "stream",
          "name": "stdout",
          "text": [
            "La variable es del tipo <class 'int'>: True\n"
          ]
        }
      ],
      "source": [
        "#EJERCICIO 02 - VERIFICAR TIPO DE DATO\n",
        "def verificar_tipo(variable, tipo):\n",
        "    \"\"\"\n",
        "    Verifica si la variable es del tipo especificado.\n",
        "    Args:\n",
        "        variable: La variable que se va a verificar.\n",
        "        tipo: El tipo de dato que se espera para la variable.\n",
        "    Returns:\n",
        "        True si la variable es del tipo especificado, False de lo contrario.\n",
        "    \"\"\"\n",
        "    return isinstance(variable, tipo)\n",
        "\n",
        "# Ejemplo de uso:\n",
        "variable = 5\n",
        "tipo_esperado = int\n",
        "resultado = verificar_tipo(variable, tipo_esperado)\n",
        "print(f\"La variable es del tipo {tipo_esperado}: {resultado}\")\n"
      ]
    },
    {
      "cell_type": "code",
      "source": [
        "#EJERCICIO 04  Asegurar que una lista no esté vacía.\n",
        "def asegurar_lista_no_vacia(lista):\n",
        "    \"\"\"\n",
        "    Asegura que la lista no esté vacía.\n",
        "    Args:\n",
        "        lista: La lista que se va a verificar.\n",
        "    Returns:\n",
        "        True si la lista no está vacía, False de lo contrario.\n",
        "    \"\"\"\n",
        "    return bool(lista)\n",
        "\n",
        "# Ejemplo de uso:\n",
        "lista = [1, 2, 3]\n",
        "resultado = asegurar_lista_no_vacia(lista)\n",
        "print(f\"La lista no está vacía: {resultado}\")\n"
      ],
      "metadata": {
        "colab": {
          "base_uri": "https://localhost:8080/"
        },
        "id": "xrTyH1NFOtJy",
        "outputId": "0cca26c8-cedd-48fb-ab7c-47b01758131a"
      },
      "execution_count": null,
      "outputs": [
        {
          "output_type": "stream",
          "name": "stdout",
          "text": [
            "La lista no está vacía: True\n"
          ]
        }
      ]
    },
    {
      "cell_type": "code",
      "source": [
        "# 6. Asegurar que un ciclo while se ejecuta al menos una vez.\n",
        "def ejecutar_al_menos_una_vez():\n",
        "    \"\"\"\n",
        "    Ejecuta un ciclo while al menos una vez.\n",
        "    \"\"\"\n",
        "    contador = 0\n",
        "    while True:\n",
        "        contador += 1\n",
        "        print(f\"Ejecución {contador}\")\n",
        "        if contador >= 1:\n",
        "            break\n",
        "\n",
        "# Ejemplo de uso:\n",
        "ejecutar_al_menos_una_vez()\n",
        "\n"
      ],
      "metadata": {
        "colab": {
          "base_uri": "https://localhost:8080/"
        },
        "id": "rClve0FkOtH6",
        "outputId": "c0ae0736-1569-4318-ef21-8e7253925746"
      },
      "execution_count": null,
      "outputs": [
        {
          "output_type": "stream",
          "name": "stdout",
          "text": [
            "Ejecución 1\n"
          ]
        }
      ]
    },
    {
      "cell_type": "code",
      "source": [
        "def validar_estado_variable(variable):\n",
        "    \"\"\"\n",
        "    Valida el estado de una variable después de una operación.\n",
        "    Args:\n",
        "        variable: La variable cuyo estado se va a validar.\n",
        "    Returns:\n",
        "        True si el estado de la variable es válido, False de lo contrario.\n",
        "    \"\"\"\n",
        "    # Realizar la operación que afecta al estado de la variable\n",
        "    variable *= 2\n",
        "    # Validar el estado de la variable\n",
        "    return variable > 0\n",
        "\n",
        "# Ejemplo de uso:\n",
        "variable = 5\n",
        "resultado = validar_estado_variable(variable)\n",
        "print(f\"El estado de la variable después de la operación es válido: {resultado}\")\n"
      ],
      "metadata": {
        "colab": {
          "base_uri": "https://localhost:8080/"
        },
        "id": "SHVCCYJ5OtF7",
        "outputId": "50cc869a-2880-42ee-beae-0e95210e08a5"
      },
      "execution_count": null,
      "outputs": [
        {
          "output_type": "stream",
          "name": "stdout",
          "text": [
            "El estado de la variable después de la operación es válido: True\n"
          ]
        }
      ]
    },
    {
      "cell_type": "markdown",
      "source": [
        "# EJERCICIOS PARTE 02\n"
      ],
      "metadata": {
        "id": "18WYsPlKQUzc"
      }
    },
    {
      "cell_type": "code",
      "source": [
        "#14. Crea una función que elimine los nodos duplicados de una lista enlazada simple.\n",
        "class ListaEnlazada:\n",
        "    def __init__(self):\n",
        "        self.cabeza = None\n",
        "\n",
        "    def eliminar_duplicados(self):\n",
        "        actual = self.cabeza\n",
        "        while actual:\n",
        "            siguiente = actual.siguiente\n",
        "            while siguiente:\n",
        "                if siguiente.dato == actual.dato:\n",
        "                    actual.siguiente = siguiente.siguiente\n",
        "                siguiente = siguiente.siguiente\n",
        "            actual = actual.siguiente\n"
      ],
      "metadata": {
        "id": "0pJb3ZABOs_a"
      },
      "execution_count": null,
      "outputs": []
    },
    {
      "cell_type": "code",
      "source": [
        "class Nodo:\n",
        "    def __init__(self, dato):\n",
        "        self.dato = dato\n",
        "        self.siguiente = None\n",
        "\n",
        "class ListaEnlazada:\n",
        "    def __init__(self):\n",
        "        self.cabeza = None\n",
        "\n",
        "#10. Desarrollar el código de buscar nodo en la lista enlazada simple.\n",
        "    def buscar_nodo(self, valor):\n",
        "        actual = self.cabeza\n",
        "        while actual:\n",
        "            if actual.dato == valor:\n",
        "                return True\n",
        "            actual = actual.siguiente\n",
        "        return False\n",
        "\n",
        "    def suma_nodos(self):\n",
        "        suma = 0\n",
        "        actual = self.cabeza\n",
        "        while actual:\n",
        "            suma += actual.dato\n",
        "            actual = actual.siguiente\n",
        "        return suma\n",
        "\n",
        "\n",
        "#12. Crea una función que devuelva la longitud de una lista enlazada simple.\n",
        "    def longitud(self):\n",
        "        contador = 0\n",
        "        actual = self.cabeza\n",
        "        while actual:\n",
        "            contador += 1\n",
        "            actual = actual.siguiente\n",
        "        return contador\n",
        "\n",
        "    def concatenar(self, otra_lista):\n",
        "        if not self.cabeza:\n",
        "            self.cabeza = otra_lista.cabeza\n",
        "        else:\n",
        "            actual = self.cabeza\n",
        "            while actual.siguiente:\n",
        "                actual = actual.siguiente\n",
        "            actual.siguiente = otra_lista.cabeza\n",
        "\n",
        "#14. Crea una función que elimine los nodos duplicados de una lista enlazada simple.\n",
        "    def eliminar_duplicados(self):\n",
        "        actual = self.cabeza\n",
        "        while actual:\n",
        "            siguiente = actual.siguiente\n",
        "            while siguiente:\n",
        "                if siguiente.dato == actual.dato:\n",
        "                    actual.siguiente = siguiente.siguiente\n",
        "                siguiente = siguiente.siguiente\n",
        "            actual = actual.siguiente\n",
        "\n",
        "    def invertir(self):\n",
        "        previo = None\n",
        "        actual = self.cabeza\n",
        "        while actual:\n",
        "            siguiente = actual.siguiente\n",
        "            actual.siguiente = previo\n",
        "            previo = actual\n",
        "            actual = siguiente\n",
        "        self.cabeza = previo\n"
      ],
      "metadata": {
        "id": "9sXxyjvXR4Q3"
      },
      "execution_count": null,
      "outputs": []
    },
    {
      "cell_type": "code",
      "source": [
        "# Creamos una lista enlazada\n",
        "lista = ListaEnlazada()\n",
        "lista.cabeza = Nodo(1)\n",
        "lista.cabeza.siguiente = Nodo(2)\n",
        "lista.cabeza.siguiente.siguiente = Nodo(3)\n",
        "\n",
        "# Ejemplo de búsqueda de nodo en la lista\n",
        "valor_buscar = 2\n",
        "print(\"¿El nodo con el valor\", valor_buscar, \"se encuentra en la lista?\", lista.buscar_nodo(valor_buscar))\n",
        "\n",
        "# Ejemplo de suma de nodos en la lista\n",
        "print(\"La suma de los nodos de la lista es:\", lista.suma_nodos())\n",
        "\n",
        "# Ejemplo de obtener la longitud de la lista\n",
        "print(\"La longitud de la lista es:\", lista.longitud())\n",
        "\n",
        "# Creamos otra lista enlazada\n",
        "otra_lista = ListaEnlazada()\n",
        "otra_lista.cabeza = Nodo(4)\n",
        "otra_lista.cabeza.siguiente = Nodo(5)\n",
        "\n",
        "# Ejemplo de concatenar dos listas enlazadas\n",
        "lista.concatenar(otra_lista)\n",
        "print(\"Lista después de concatenar:\")\n",
        "actual = lista.cabeza\n",
        "while actual:\n",
        "    print(actual.dato)\n",
        "    actual = actual.siguiente\n",
        "\n",
        "# Creamos una lista enlazada con nodos duplicados\n",
        "lista_duplicados = ListaEnlazada()\n",
        "lista_duplicados.cabeza = Nodo(1)\n",
        "lista_duplicados.cabeza.siguiente = Nodo(2)\n",
        "lista_duplicados.cabeza.siguiente.siguiente = Nodo(1)\n",
        "lista_duplicados.cabeza.siguiente.siguiente.siguiente = Nodo(3)\n",
        "\n",
        "# Ejemplo de eliminar nodos duplicados de la lista\n",
        "lista_duplicados.eliminar_duplicados()\n",
        "print(\"Lista después de eliminar nodos duplicados:\")\n",
        "actual = lista_duplicados.cabeza\n",
        "while actual:\n",
        "    print(actual.dato)\n",
        "    actual = actual.siguiente\n",
        "\n",
        "# Creamos otra lista enlazada\n",
        "otra_lista2 = ListaEnlazada()\n",
        "otra_lista2.cabeza = Nodo(6)\n",
        "otra_lista2.cabeza.siguiente = Nodo(7)\n",
        "otra_lista2.cabeza.siguiente.siguiente = Nodo(8)\n",
        "\n",
        "# Ejemplo de invertir el orden de la lista\n",
        "otra_lista2.invertir()\n",
        "print(\"Lista después de invertir:\")\n",
        "actual = otra_lista2.cabeza\n",
        "while actual:\n",
        "    print(actual.dato)\n",
        "    actual = actual.siguiente"
      ],
      "metadata": {
        "colab": {
          "base_uri": "https://localhost:8080/"
        },
        "id": "KVHrBdUgR4If",
        "outputId": "96a4a30c-7ad7-4c8b-b701-2070c1abed79"
      },
      "execution_count": null,
      "outputs": [
        {
          "output_type": "stream",
          "name": "stdout",
          "text": [
            "¿El nodo con el valor 2 se encuentra en la lista? True\n",
            "La suma de los nodos de la lista es: 6\n",
            "La longitud de la lista es: 3\n",
            "Lista después de concatenar:\n",
            "1\n",
            "2\n",
            "3\n",
            "4\n",
            "5\n",
            "Lista después de eliminar nodos duplicados:\n",
            "1\n",
            "3\n",
            "Lista después de invertir:\n",
            "8\n",
            "7\n",
            "6\n"
          ]
        }
      ]
    }
  ]
}
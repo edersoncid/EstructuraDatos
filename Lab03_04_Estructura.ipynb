{
  "nbformat": 4,
  "nbformat_minor": 0,
  "metadata": {
    "colab": {
      "provenance": [],
      "authorship_tag": "ABX9TyMx7dBdYKzEsejA5mHvAvq/",
      "include_colab_link": true
    },
    "kernelspec": {
      "name": "python3",
      "display_name": "Python 3"
    },
    "language_info": {
      "name": "python"
    }
  },
  "cells": [
    {
      "cell_type": "markdown",
      "metadata": {
        "id": "view-in-github",
        "colab_type": "text"
      },
      "source": [
        "<a href=\"https://colab.research.google.com/github/edersoncid/EstructuraDatos/blob/main/Lab03_04_Estructura.ipynb\" target=\"_parent\"><img src=\"https://colab.research.google.com/assets/colab-badge.svg\" alt=\"Open In Colab\"/></a>"
      ]
    },
    {
      "cell_type": "markdown",
      "source": [
        "# Recursividad:\n",
        "1.    Ejercicio 1: Escribe una función recursiva que imprima los números pares del 1 al 100.\n",
        "2.   Ejercicio 2: Escribe una función recursiva que imprima la suma de los números del 1 al n.\n",
        "3.    Ejercicio 3: Escribe una función recursiva que imprima la pirámide de números del 1 al n.\n",
        "4.    Ejercicio 4: Escribe una función recursiva que imprima la pirámide de números invertidos del 1 al n. 5)    Ejercicio 2: Escribe una función recursiva que imprima la tabla de multiplicar del n.\n",
        "\n",
        "# Arreglos y Matrices:\n",
        "\n",
        "6.   Crea una matriz de números reales.\n",
        "7.    Crea una matriz de números complejos.\n",
        "8.   Crea una matriz de matrices.\n",
        "9.    Accede al elemento central de una matriz.\n",
        "10.  Suma dos matrices de diferentes tamaños.\n",
        "11.   Multiplica una matriz por un número.\n",
        "12.  Calcula la media de los elementos de una matriz.\n",
        "\n"
      ],
      "metadata": {
        "id": "o5K8BK-fbnX4"
      }
    },
    {
      "cell_type": "code",
      "source": [
        "#Ejercicio 01\n",
        "def imprimir_pares(n):\n",
        "    if n == 0:\n",
        "        return\n",
        "    imprimir_pares(n - 1)\n",
        "    if n % 2 == 0:\n",
        "        print(n)\n",
        "\n",
        "print(\"Números pares del 1 al 100:\")\n",
        "imprimir_pares(100)\n"
      ],
      "metadata": {
        "colab": {
          "base_uri": "https://localhost:8080/"
        },
        "id": "ZLywWIEobnQo",
        "outputId": "a256df40-5760-4b4e-be81-985e660a8f34"
      },
      "execution_count": 1,
      "outputs": [
        {
          "output_type": "stream",
          "name": "stdout",
          "text": [
            "Números pares del 1 al 100:\n",
            "2\n",
            "4\n",
            "6\n",
            "8\n",
            "10\n",
            "12\n",
            "14\n",
            "16\n",
            "18\n",
            "20\n",
            "22\n",
            "24\n",
            "26\n",
            "28\n",
            "30\n",
            "32\n",
            "34\n",
            "36\n",
            "38\n",
            "40\n",
            "42\n",
            "44\n",
            "46\n",
            "48\n",
            "50\n",
            "52\n",
            "54\n",
            "56\n",
            "58\n",
            "60\n",
            "62\n",
            "64\n",
            "66\n",
            "68\n",
            "70\n",
            "72\n",
            "74\n",
            "76\n",
            "78\n",
            "80\n",
            "82\n",
            "84\n",
            "86\n",
            "88\n",
            "90\n",
            "92\n",
            "94\n",
            "96\n",
            "98\n",
            "100\n"
          ]
        }
      ]
    },
    {
      "cell_type": "code",
      "source": [
        "#Ejercicio 02\n",
        "def suma_hasta_n(n):\n",
        "    if n == 0:\n",
        "        return 0\n",
        "    return n + suma_hasta_n(n - 1)\n",
        "\n",
        "numero = 10\n",
        "print(\"Suma de los números del 1 al\", numero, \":\", suma_hasta_n(numero))\n"
      ],
      "metadata": {
        "colab": {
          "base_uri": "https://localhost:8080/"
        },
        "id": "jQ8u5xLqcKWu",
        "outputId": "551b7bab-308c-46bd-f531-a487ea1fafbb"
      },
      "execution_count": 2,
      "outputs": [
        {
          "output_type": "stream",
          "name": "stdout",
          "text": [
            "Suma de los números del 1 al 10 : 55\n"
          ]
        }
      ]
    },
    {
      "cell_type": "code",
      "source": [
        "#Ejercicio 03\n",
        "\n",
        "def piramide(n):\n",
        "    if n == 0:\n",
        "        return\n",
        "    piramide(n - 1)\n",
        "    print(\" \" * (n - 1) + str(n) * (2 * (5 - n) + 1))\n",
        "\n",
        "print(\"Pirámide de números del 1 al 5:\")\n",
        "piramide(5)\n"
      ],
      "metadata": {
        "colab": {
          "base_uri": "https://localhost:8080/"
        },
        "id": "vRGzISW7cKPm",
        "outputId": "eeb1b84b-4141-4aec-e927-7d6997b22206"
      },
      "execution_count": 3,
      "outputs": [
        {
          "output_type": "stream",
          "name": "stdout",
          "text": [
            "Pirámide de números del 1 al 5:\n",
            "111111111\n",
            " 2222222\n",
            "  33333\n",
            "   444\n",
            "    5\n"
          ]
        }
      ]
    },
    {
      "cell_type": "code",
      "execution_count": 4,
      "metadata": {
        "colab": {
          "base_uri": "https://localhost:8080/"
        },
        "id": "4Krxhy2XbCUx",
        "outputId": "c4ac25dc-2b83-4095-dd99-b24a16cc6218"
      },
      "outputs": [
        {
          "output_type": "stream",
          "name": "stdout",
          "text": [
            "Pirámide de números invertidos del 1 al 5:\n",
            "5\n",
            "444\n",
            "33333\n",
            "2222222\n",
            "111111111\n"
          ]
        }
      ],
      "source": [
        "#Ejercicio 04\n",
        "\n",
        "def piramide_invertida(n):\n",
        "    if n == 0:\n",
        "        return\n",
        "    print(str(n) * (2 * (5 - n) + 1))\n",
        "    piramide_invertida(n - 1)\n",
        "\n",
        "print(\"Pirámide de números invertidos del 1 al 5:\")\n",
        "piramide_invertida(5)\n"
      ]
    },
    {
      "cell_type": "code",
      "source": [
        "#Ejercicio 05\n",
        "# Crear una matriz de números reales\n",
        "matriz_reales = np.array([[1.2, 2.3, 3.4], [4.5, 5.6, 6.7], [7.8, 8.9, 9.1]])\n",
        "print(\"Matriz de números reales:\")\n",
        "print(matriz_reales)"
      ],
      "metadata": {
        "colab": {
          "base_uri": "https://localhost:8080/"
        },
        "id": "GoBIKi4bcwzl",
        "outputId": "ac8ad1a9-e176-4210-8231-b4dffaf55bd3"
      },
      "execution_count": 9,
      "outputs": [
        {
          "output_type": "stream",
          "name": "stdout",
          "text": [
            "Matriz de números reales:\n",
            "[[1.2 2.3 3.4]\n",
            " [4.5 5.6 6.7]\n",
            " [7.8 8.9 9.1]]\n"
          ]
        }
      ]
    },
    {
      "cell_type": "code",
      "source": [
        "#Ejercicio 06\n",
        "# Crear una matriz de números complejos\n",
        "matriz_complejos = np.array([[1 + 2j, 3 + 4j], [5 + 6j, 7 + 8j]])\n",
        "print(\"\\nMatriz de números complejos:\")\n",
        "print(matriz_complejos)"
      ],
      "metadata": {
        "colab": {
          "base_uri": "https://localhost:8080/"
        },
        "id": "X57s6IkZcwxl",
        "outputId": "876a9e00-42dc-4e20-c81b-6e30945bcacf"
      },
      "execution_count": 10,
      "outputs": [
        {
          "output_type": "stream",
          "name": "stdout",
          "text": [
            "\n",
            "Matriz de números complejos:\n",
            "[[1.+2.j 3.+4.j]\n",
            " [5.+6.j 7.+8.j]]\n"
          ]
        }
      ]
    },
    {
      "cell_type": "code",
      "source": [
        "#Ejercicio 07\n",
        "# Crear una matriz de matrices\n",
        "matriz_de_matrices = np.array([[[1, 2], [3, 4]], [[5, 6], [7, 8]]])\n",
        "print(\"\\nMatriz de matrices:\")\n",
        "print(matriz_de_matrices)\n"
      ],
      "metadata": {
        "colab": {
          "base_uri": "https://localhost:8080/"
        },
        "id": "isMg8GRCcwvF",
        "outputId": "a9e817d8-4c46-4abf-afb2-85dc38511e9b"
      },
      "execution_count": 11,
      "outputs": [
        {
          "output_type": "stream",
          "name": "stdout",
          "text": [
            "\n",
            "Matriz de matrices:\n",
            "[[[1 2]\n",
            "  [3 4]]\n",
            "\n",
            " [[5 6]\n",
            "  [7 8]]]\n"
          ]
        }
      ]
    },
    {
      "cell_type": "code",
      "source": [
        "#Ejercicio 08\n",
        "# Acceder al elemento central de una matriz\n",
        "filas, columnas = matriz_reales.shape\n",
        "if filas % 2 == 1 and columnas % 2 == 1:\n",
        "    elemento_central = matriz_reales[filas // 2, columnas // 2]\n",
        "    print(\"\\nElemento central de la matriz de números reales:\", elemento_central)"
      ],
      "metadata": {
        "colab": {
          "base_uri": "https://localhost:8080/"
        },
        "id": "Ukmo8Zb8c01P",
        "outputId": "e41b4d15-1b1b-4b33-ede5-24ee4b1b18e1"
      },
      "execution_count": 12,
      "outputs": [
        {
          "output_type": "stream",
          "name": "stdout",
          "text": [
            "\n",
            "Elemento central de la matriz de números reales: 5.6\n"
          ]
        }
      ]
    },
    {
      "cell_type": "code",
      "source": [
        "#Ejercicio 09\n",
        "# Sumar dos matrices de diferentes tamaños\n",
        "import numpy as np\n",
        "\n",
        "# Definir las matrices\n",
        "matriz_a = np.array([[1, 2], [3, 4]])\n",
        "matriz_b = np.array([[5, 6, 7], [8, 9, 10]])\n",
        "\n",
        "# Obtener las formas de las matrices\n",
        "filas_a, columnas_a = matriz_a.shape\n",
        "filas_b, columnas_b = matriz_b.shape\n",
        "\n",
        "# Crear nuevas matrices con las mismas dimensiones\n",
        "if filas_a < filas_b:\n",
        "    matriz_a = np.pad(matriz_a, ((0, filas_b - filas_a), (0, 0)), mode='constant')\n",
        "elif filas_b < filas_a:\n",
        "    matriz_b = np.pad(matriz_b, ((0, filas_a - filas_b), (0, 0)), mode='constant')\n",
        "\n",
        "if columnas_a < columnas_b:\n",
        "    matriz_a = np.pad(matriz_a, ((0, 0), (0, columnas_b - columnas_a)), mode='constant')\n",
        "elif columnas_b < columnas_a:\n",
        "    matriz_b = np.pad(matriz_b, ((0, 0), (0, columnas_a - columnas_b)), mode='constant')\n",
        "\n",
        "# Sumar las matrices\n",
        "suma_matrices = matriz_a + matriz_b\n",
        "\n",
        "print(\"Matriz A:\")\n",
        "print(matriz_a)\n",
        "print(\"\\nMatriz B:\")\n",
        "print(matriz_b)\n",
        "print(\"\\nSuma de las matrices:\")\n",
        "print(suma_matrices)\n"
      ],
      "metadata": {
        "colab": {
          "base_uri": "https://localhost:8080/"
        },
        "id": "fUlwRD9Bc0y-",
        "outputId": "7dfbf973-40c7-4b4d-e969-fff4b32ea227"
      },
      "execution_count": 16,
      "outputs": [
        {
          "output_type": "stream",
          "name": "stdout",
          "text": [
            "Matriz A:\n",
            "[[1 2 0]\n",
            " [3 4 0]]\n",
            "\n",
            "Matriz B:\n",
            "[[ 5  6  7]\n",
            " [ 8  9 10]]\n",
            "\n",
            "Suma de las matrices:\n",
            "[[ 6  8  7]\n",
            " [11 13 10]]\n"
          ]
        }
      ]
    },
    {
      "cell_type": "code",
      "source": [
        "#Ejercicio 10\n",
        "# Multiplicar una matriz por un número\n",
        "numero = 2\n",
        "matriz_multiplicada = numero * matriz_a\n",
        "print(\"\\nMatriz multiplicada por\", numero, \":\")\n",
        "print(matriz_multiplicada)"
      ],
      "metadata": {
        "colab": {
          "base_uri": "https://localhost:8080/"
        },
        "id": "NGMCuesgc2Gv",
        "outputId": "d0f643c3-78f7-4b91-c8e1-3f834c8c4f30"
      },
      "execution_count": 14,
      "outputs": [
        {
          "output_type": "stream",
          "name": "stdout",
          "text": [
            "\n",
            "Matriz multiplicada por 2 :\n",
            "[[2 4]\n",
            " [6 8]]\n"
          ]
        }
      ]
    },
    {
      "cell_type": "code",
      "source": [
        "#Ejercicio 12\n",
        "# Calcular la media de los elementos de una matriz\n",
        "media = np.mean(matriz_a)\n",
        "print(\"\\nMedia de los elementos de la matriz de números reales:\", media)"
      ],
      "metadata": {
        "colab": {
          "base_uri": "https://localhost:8080/"
        },
        "id": "AbSQ5dbQc2xn",
        "outputId": "19a25c7d-0c5a-4d4e-8b32-7d918322a175"
      },
      "execution_count": 15,
      "outputs": [
        {
          "output_type": "stream",
          "name": "stdout",
          "text": [
            "\n",
            "Media de los elementos de la matriz de números reales: 2.5\n"
          ]
        }
      ]
    },
    {
      "cell_type": "code",
      "source": [],
      "metadata": {
        "id": "ZdRf2PSrfBvI"
      },
      "execution_count": null,
      "outputs": []
    }
  ]
}
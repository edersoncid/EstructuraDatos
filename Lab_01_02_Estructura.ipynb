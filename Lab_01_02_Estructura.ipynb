{
  "nbformat": 4,
  "nbformat_minor": 0,
  "metadata": {
    "colab": {
      "provenance": [],
      "authorship_tag": "ABX9TyPptL2Kvrs6/TogA7LrssTJ",
      "include_colab_link": true
    },
    "kernelspec": {
      "name": "python3",
      "display_name": "Python 3"
    },
    "language_info": {
      "name": "python"
    }
  },
  "cells": [
    {
      "cell_type": "markdown",
      "metadata": {
        "id": "view-in-github",
        "colab_type": "text"
      },
      "source": [
        "<a href=\"https://colab.research.google.com/github/edersoncid/EstructuraDatos/blob/main/Lab_01_02_Estructura.ipynb\" target=\"_parent\"><img src=\"https://colab.research.google.com/assets/colab-badge.svg\" alt=\"Open In Colab\"/></a>"
      ]
    },
    {
      "cell_type": "markdown",
      "source": [
        "# EJERCICIOS"
      ],
      "metadata": {
        "id": "xBbXLg0bZqb1"
      }
    },
    {
      "cell_type": "code",
      "source": [
        "#Operaciones Básicas:\n",
        "#1)Realiza la suma, resta, multiplicación y división de dos números ingresados por el usuario.\n",
        "# Solicitar dos números al usuario\n",
        "num1 = float(input(\"Ingresa el primer número: \"))\n",
        "num2 = float(input(\"Ingresa el segundo número: \"))\n",
        "\n",
        "# Realizar las operaciones básicas\n",
        "suma = num1 + num2\n",
        "resta = num1 - num2\n",
        "multiplicacion = num1 * num2\n",
        "division = num1 / num2 if num2 != 0 else \"No se puede dividir por cero\"\n",
        "\n",
        "# Mostrar los resultados\n",
        "print(\"Suma:\", suma)\n",
        "print(\"Resta:\", resta)\n",
        "print(\"Multiplicación:\", multiplicacion)\n",
        "print(\"División:\", division)\n"
      ],
      "metadata": {
        "colab": {
          "base_uri": "https://localhost:8080/"
        },
        "id": "VsgX5-0JYMBv",
        "outputId": "f4451f6f-2558-49ff-b234-088bb11ebb06"
      },
      "execution_count": 1,
      "outputs": [
        {
          "output_type": "stream",
          "name": "stdout",
          "text": [
            "Ingresa el primer número: 3\n",
            "Ingresa el segundo número: 5\n",
            "Suma: 8.0\n",
            "Resta: -2.0\n",
            "Multiplicación: 15.0\n",
            "División: 0.6\n"
          ]
        }
      ]
    },
    {
      "cell_type": "code",
      "source": [
        "#Verificación de Número Par o Impar:\n",
        "#2) Solicita un número al usuario y determina si es par o impar.\n",
        "# Solicitar un número al usuario\n",
        "num = int(input(\"Ingresa un número: \"))\n",
        "\n",
        "# Verificar si es par o impar\n",
        "if num % 2 == 0:\n",
        "    print(\"El número es par\")\n",
        "else:\n",
        "    print(\"El número es impar\")\n"
      ],
      "metadata": {
        "colab": {
          "base_uri": "https://localhost:8080/"
        },
        "id": "j8tsgWJ0YO0X",
        "outputId": "99879728-6a02-47c6-8383-300fde6fc67d"
      },
      "execution_count": 2,
      "outputs": [
        {
          "output_type": "stream",
          "name": "stdout",
          "text": [
            "Ingresa un número: 5\n",
            "El número es impar\n"
          ]
        }
      ]
    },
    {
      "cell_type": "code",
      "source": [
        "#Área de un Triángulo:\n",
        "#3)  Pide la base y la altura de un triángulo al usuario y calcula su área.\n",
        "# Solicitar la base y la altura al usuario\n",
        "base = float(input(\"Ingresa la base del triángulo: \"))\n",
        "altura = float(input(\"Ingresa la altura del triángulo: \"))\n",
        "\n",
        "# Calcular el área del triángulo\n",
        "area = (base * altura) / 2\n",
        "\n",
        "# Mostrar el resultado\n",
        "print(\"El área del triángulo es:\", area)\n"
      ],
      "metadata": {
        "colab": {
          "base_uri": "https://localhost:8080/"
        },
        "id": "Jm4erbsFYW7D",
        "outputId": "0fe61353-f250-4a95-99ac-8f84076cab38"
      },
      "execution_count": 3,
      "outputs": [
        {
          "output_type": "stream",
          "name": "stdout",
          "text": [
            "Ingresa la base del triángulo: 3\n",
            "Ingresa la altura del triángulo: 10\n",
            "El área del triángulo es: 15.0\n"
          ]
        }
      ]
    },
    {
      "cell_type": "code",
      "source": [
        "#Calculadora de Factorial:\n",
        "# 4) Crea una función que calcule la factorial de un número.\n",
        "def factorial(n):\n",
        "    if n == 0:\n",
        "        return 1\n",
        "    else:\n",
        "        return n * factorial(n - 1)\n",
        "\n",
        "# Solicitar un número al usuario\n",
        "num = int(input(\"Ingresa un número para calcular su factorial: \"))\n",
        "\n",
        "# Calcular el factorial\n",
        "resultado = factorial(num)\n",
        "\n",
        "# Mostrar el resultado\n",
        "print(\"El factorial de\", num, \"es:\", resultado)\n"
      ],
      "metadata": {
        "colab": {
          "base_uri": "https://localhost:8080/"
        },
        "id": "RsqoCe90YZos",
        "outputId": "661e170a-e4dd-4409-aaf1-44fe415678f0"
      },
      "execution_count": 5,
      "outputs": [
        {
          "output_type": "stream",
          "name": "stdout",
          "text": [
            "Ingresa un número para calcular su factorial: 4\n",
            "El factorial de 4 es: 24\n"
          ]
        }
      ]
    },
    {
      "cell_type": "code",
      "source": [
        "#Número Primo:\n",
        "#5) Verifica si un número ingresado por el usuario es primo o no.\n",
        "# Función para verificar si un número es primo\n",
        "def es_primo(num):\n",
        "    if num <= 1:\n",
        "        return False\n",
        "    elif num <= 3:\n",
        "        return True\n",
        "    elif num % 2 == 0 or num % 3 == 0:\n",
        "        return False\n",
        "    i = 5\n",
        "    while i * i <= num:\n",
        "        if num % i == 0 or num % (i + 2) == 0:\n",
        "            return False\n",
        "        i += 6\n",
        "    return True\n",
        "\n",
        "# Solicitar un número al usuario\n",
        "num = int(input(\"Ingresa un número para verificar si es primo: \"))\n",
        "\n",
        "# Verificar si es primo\n",
        "if es_primo(num):\n",
        "    print(\"El número\", num, \"es primo\")\n",
        "else:\n",
        "    print(\"El número\", num, \"no es primo\")\n"
      ],
      "metadata": {
        "colab": {
          "base_uri": "https://localhost:8080/"
        },
        "id": "NCvlp-aEYhin",
        "outputId": "c30fe5b1-34f6-47e1-8837-2730510a96dd"
      },
      "execution_count": 6,
      "outputs": [
        {
          "output_type": "stream",
          "name": "stdout",
          "text": [
            "Ingresa un número para verificar si es primo: 12\n",
            "El número 12 no es primo\n"
          ]
        }
      ]
    },
    {
      "cell_type": "code",
      "source": [
        "#Inversión de Cadena:\n",
        "#6) Toma una cadena de texto y muestra su inversión.#\n",
        "# Solicitar una cadena de texto al usuario\n",
        "cadena = input(\"Ingresa una cadena de texto: \")\n",
        "\n",
        "# Invertir la cadena\n",
        "cadena_invertida = cadena[::-1]\n",
        "\n",
        "# Mostrar la cadena invertida\n",
        "print(\"La cadena invertida es:\", cadena_invertida)\n",
        "\n"
      ],
      "metadata": {
        "colab": {
          "base_uri": "https://localhost:8080/"
        },
        "id": "qZFi2O_vYkH1",
        "outputId": "8814ce11-ee3b-49a7-b0b0-d553a1e91e0a"
      },
      "execution_count": 7,
      "outputs": [
        {
          "output_type": "stream",
          "name": "stdout",
          "text": [
            "Ingresa una cadena de texto: estructura\n",
            "La cadena invertida es: arutcurtse\n"
          ]
        }
      ]
    },
    {
      "cell_type": "code",
      "source": [
        "#Suma de Números Pares:\n",
        "#7)    Calcula la suma de los números pares en un rango especificado por el usuario.\n",
        "# Solicitar el rango al usuario\n",
        "inicio = int(input(\"Ingresa el número inicial del rango: \"))\n",
        "fin = int(input(\"Ingresa el número final del rango: \"))\n",
        "\n",
        "# Calcular la suma de los números pares en el rango especificado\n",
        "suma_pares = sum(num for num in range(inicio, fin+1) if num % 2 == 0)\n",
        "\n",
        "# Mostrar el resultado\n",
        "print(\"La suma de los números pares en el rango es:\", suma_pares)\n"
      ],
      "metadata": {
        "colab": {
          "base_uri": "https://localhost:8080/"
        },
        "id": "gjjw0lZsYveL",
        "outputId": "5b1c9056-9645-4d52-e2f1-fb08aa6c78a3"
      },
      "execution_count": 9,
      "outputs": [
        {
          "output_type": "stream",
          "name": "stdout",
          "text": [
            "Ingresa el número inicial del rango: 4\n",
            "Ingresa el número final del rango: 10\n",
            "La suma de los números pares en el rango es: 28\n"
          ]
        }
      ]
    },
    {
      "cell_type": "code",
      "source": [
        "#Lista de Cuadrados:\n",
        "# 8)    Crea una lista de los cuadrados de los primeros 10 números naturales.\n",
        "\n",
        "cuadrados = [num ** 2 for num in range(1, 11)]\n",
        "\n",
        "# Mostrar la lista de cuadrados\n",
        "print(\"Lista de cuadrados de los primeros 10 números naturales:\", cuadrados)\n"
      ],
      "metadata": {
        "colab": {
          "base_uri": "https://localhost:8080/"
        },
        "id": "G9dyMHClYzyd",
        "outputId": "ff576eb2-c8be-4a34-a794-c5f434a391f9"
      },
      "execution_count": 10,
      "outputs": [
        {
          "output_type": "stream",
          "name": "stdout",
          "text": [
            "Lista de cuadrados de los primeros 10 números naturales: [1, 4, 9, 16, 25, 36, 49, 64, 81, 100]\n"
          ]
        }
      ]
    },
    {
      "cell_type": "code",
      "source": [
        "#Contador de Vocales:\n",
        "#9)    Cuenta el número de vocales en una cadena de texto.\n",
        "# Solicitar una cadena de texto al usuario\n",
        "cadena = input(\"Ingresa una cadena de texto: \")\n",
        "\n",
        "# Contar el número de vocales en la cadena\n",
        "vocales = sum(1 for char in cadena if char.lower() in 'aeiou')\n",
        "\n",
        "# Mostrar el resultado\n",
        "print(\"El número de vocales en la cadena es:\", vocales)\n"
      ],
      "metadata": {
        "colab": {
          "base_uri": "https://localhost:8080/"
        },
        "id": "0LXnZfh5Zfrg",
        "outputId": "180b96c8-0cdb-45c7-c63f-2c72c3f56a42"
      },
      "execution_count": 11,
      "outputs": [
        {
          "output_type": "stream",
          "name": "stdout",
          "text": [
            "Ingresa una cadena de texto: estructura\n",
            "El número de vocales en la cadena es: 4\n"
          ]
        }
      ]
    },
    {
      "cell_type": "code",
      "source": [
        "#Números de la Serie Fibonacci:\n",
        "#10)  Genera los primeros 10 números de la serie Fibonacci.\n",
        "# Función para generar los primeros n números de la serie Fibonacci\n",
        "def fibonacci(n):\n",
        "    fib = [0, 1]\n",
        "    while len(fib) < n:\n",
        "        fib.append(fib[-1] + fib[-2])\n",
        "    return fib\n",
        "\n",
        "# Solicitar la cantidad de números de la serie Fibonacci al usuario\n",
        "n = int(input(\"Ingresa la cantidad de números de la serie Fibonacci que deseas generar: \"))\n",
        "\n",
        "# Generar los primeros n números de la serie Fibonacci\n",
        "serie_fibonacci = fibonacci(n)\n",
        "\n",
        "# Mostrar la serie Fibonacci generada\n",
        "print(\"Los primeros\", n, \"números de la serie Fibonacci son:\", serie_fibonacci)\n"
      ],
      "metadata": {
        "colab": {
          "base_uri": "https://localhost:8080/"
        },
        "id": "wAglItL6Zfpg",
        "outputId": "1e358d0c-c3f8-4268-db08-f658bff202a6"
      },
      "execution_count": 12,
      "outputs": [
        {
          "output_type": "stream",
          "name": "stdout",
          "text": [
            "Ingresa la cantidad de números de la serie Fibonacci que deseas generar: 7\n",
            "Los primeros 7 números de la serie Fibonacci son: [0, 1, 1, 2, 3, 5, 8]\n"
          ]
        }
      ]
    },
    {
      "cell_type": "code",
      "source": [
        "#Ordenamiento de Lista:\n",
        "#11)   Ordena una lista de números ingresados por el usuario de menor a mayor.\n",
        "\n",
        "# Solicitar una lista de números al usuario\n",
        "numeros = [int(x) for x in input(\"Ingresa una lista de números separados por espacios: \").split()]\n",
        "\n",
        "# Ordenar la lista de números de menor a mayor\n",
        "numeros.sort()\n",
        "\n",
        "# Mostrar la lista ordenada\n",
        "print(\"Lista ordenada de menor a mayor:\", numeros)\n"
      ],
      "metadata": {
        "colab": {
          "base_uri": "https://localhost:8080/"
        },
        "id": "YMpB_g8DZfnY",
        "outputId": "e1d8dfd5-82b7-401d-ef70-0fe0c8348ca4"
      },
      "execution_count": 13,
      "outputs": [
        {
          "output_type": "stream",
          "name": "stdout",
          "text": [
            "Ingresa una lista de números separados por espacios: 1 5 3 8 6\n",
            "Lista ordenada de menor a mayor: [1, 3, 5, 6, 8]\n"
          ]
        }
      ]
    },
    {
      "cell_type": "code",
      "source": [
        "#Palíndromo:\n",
        "#12)  Verifica si una palabra ingresada por el usuario es un palíndromo.\n",
        "# Función para verificar si una palabra es un palíndromo\n",
        "def es_palindromo(palabra):\n",
        "    palabra = palabra.lower()\n",
        "    return palabra == palabra[::-1]\n",
        "\n",
        "# Solicitar una palabra al usuario\n",
        "palabra = input(\"Ingresa una palabra para verificar si es un palíndromo: \")\n",
        "\n",
        "# Verificar si es un palíndromo\n",
        "if es_palindromo(palabra):\n",
        "    print(\"La palabra\", palabra, \"es un palíndromo\")\n",
        "else:\n",
        "    print(\"La palabra\", palabra, \"no es un palíndromo\")\n",
        "\n"
      ],
      "metadata": {
        "colab": {
          "base_uri": "https://localhost:8080/"
        },
        "id": "BOLbmOvVZflA",
        "outputId": "d80d1937-5cf6-4068-f2ac-3574119d3880"
      },
      "execution_count": 14,
      "outputs": [
        {
          "output_type": "stream",
          "name": "stdout",
          "text": [
            "Ingresa una palabra para verificar si es un palíndromo: oso\n",
            "La palabra oso es un palíndromo\n"
          ]
        }
      ]
    },
    {
      "cell_type": "code",
      "source": [
        "#Generador de Tablas de Multiplicar:\n",
        "#13)  Crea un programa que genere la tabla de multiplicar de un número ingresado por el usuario\n",
        "# Solicitar un número al usuario\n",
        "numero = int(input(\"Ingresa un número para generar su tabla de multiplicar: \"))\n",
        "\n",
        "# Generar la tabla de multiplicar del número ingresado\n",
        "print(\"Tabla de multiplicar del\", numero, \":\")\n",
        "for i in range(1, 11):\n",
        "    resultado = numero * i\n",
        "    print(numero, \"x\", i, \"=\", resultado)\n"
      ],
      "metadata": {
        "colab": {
          "base_uri": "https://localhost:8080/"
        },
        "id": "4BTgM0Y1Zuk2",
        "outputId": "3bde4f54-8bb7-4813-c080-0be2c3ba6cf7"
      },
      "execution_count": 15,
      "outputs": [
        {
          "output_type": "stream",
          "name": "stdout",
          "text": [
            "Ingresa un número para generar su tabla de multiplicar: 5\n",
            "Tabla de multiplicar del 5 :\n",
            "5 x 1 = 5\n",
            "5 x 2 = 10\n",
            "5 x 3 = 15\n",
            "5 x 4 = 20\n",
            "5 x 5 = 25\n",
            "5 x 6 = 30\n",
            "5 x 7 = 35\n",
            "5 x 8 = 40\n",
            "5 x 9 = 45\n",
            "5 x 10 = 50\n"
          ]
        }
      ]
    },
    {
      "cell_type": "code",
      "source": [
        "#Cálculo del Área de un Círculo:\n",
        "#14)  Pide el radio de un círculo al usuario y calcula su área.\n",
        "import math\n",
        "\n",
        "# Prompt the user for the radius\n",
        "radius = float(input(\"Ingrese el radio del círculo: \"))\n",
        "\n",
        "# Calculate the area using the formula pi * radius^2\n",
        "area = math.pi * radius**2\n",
        "\n",
        "# Print the area with a clear message\n",
        "print(\"El área del círculo es:\", area)\n"
      ],
      "metadata": {
        "colab": {
          "base_uri": "https://localhost:8080/"
        },
        "id": "aa9v2GdqZui2",
        "outputId": "18fe9c54-dcf9-4c2e-bb02-79b8b846bd93"
      },
      "execution_count": 16,
      "outputs": [
        {
          "output_type": "stream",
          "name": "stdout",
          "text": [
            "Ingrese el radio del círculo: 5\n",
            "El área del círculo es: 78.53981633974483\n"
          ]
        }
      ]
    },
    {
      "cell_type": "code",
      "source": [
        " #Suma de Dígitos:\n",
        "#15)  Toma un número entero y calcula la suma de sus dígitos\n",
        "\n",
        "def suma_digitos(numero):\n",
        "  \"\"\"\n",
        "  Calcula la suma de los dígitos de un número entero.\n",
        "\n",
        "  Parámetros:\n",
        "    numero: El número entero del que se quiere calcular la suma de sus dígitos.\n",
        "\n",
        "  Retorno:\n",
        "    La suma de los dígitos del número.\n",
        "  \"\"\"\n",
        "  suma = 0\n",
        "  while numero > 0:\n",
        "    digito = numero % 10\n",
        "    suma += digito\n",
        "    numero //= 10\n",
        "  return suma\n",
        "\n",
        "numero = int(input(\"Introduzca un número entero: \"))\n",
        "resultado = suma_digitos(numero)\n",
        "print(f\"La suma de los dígitos de {numero} es {resultado}\")\n"
      ],
      "metadata": {
        "colab": {
          "base_uri": "https://localhost:8080/"
        },
        "id": "0v1LSIVhZug2",
        "outputId": "de3e7a15-c26c-4dce-9a4a-446026ab4b27"
      },
      "execution_count": 17,
      "outputs": [
        {
          "output_type": "stream",
          "name": "stdout",
          "text": [
            "Introduzca un número entero: 123\n",
            "La suma de los dígitos de 123 es 6\n"
          ]
        }
      ]
    }
  ]
}